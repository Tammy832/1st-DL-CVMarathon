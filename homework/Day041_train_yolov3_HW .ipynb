{
  "nbformat": 4,
  "nbformat_minor": 0,
  "metadata": {
    "accelerator": "GPU",
    "colab": {
      "name": "Day41_train_yolov3_HW.ipynb",
      "provenance": [],
      "collapsed_sections": []
    },
    "kernelspec": {
      "display_name": "Python 3",
      "language": "python",
      "name": "python3"
    },
    "language_info": {
      "codemirror_mode": {
        "name": "ipython",
        "version": 3
      },
      "file_extension": ".py",
      "mimetype": "text/x-python",
      "name": "python",
      "nbconvert_exporter": "python",
      "pygments_lexer": "ipython3",
      "version": "3.6.1"
    }
  },
  "cells": [
    {
      "cell_type": "markdown",
      "metadata": {
        "colab_type": "text",
        "id": "CG77DrrB2CrU"
      },
      "source": [
        "## 作業\n",
        "\n",
        "1. 如何使用已經訓練好的模型？\n",
        "\n",
        "Ans. 先下載yolov3的網路權重轉化為keras可讀取的格式(模型)，即`convert.py -w`去做轉換，接著藉此模型繼續訓練自己的資料集。\n",
        "2. 依照 https://github.com/qqwweee/keras-yolo3 的程式碼，請敘述，訓練模型時，資料集的格式是什麼？具體一點的說，要提供什麼格式的文件來描述資料集的圖片以及 bboxes 的信息呢？\n",
        "\n",
        "Ans. 要轉成YOLO訓練程式碼理解的格式，如：`path/to/img1.jpg 50,100,150,200,0 30,50,200,120,3`\n",
        "從上面的程式碼可知，先是圖片路徑，再者是x_min(左上角 x)、y_min(左上角 y)、x_max(右下角 x)、y_max(右下角 y)、類別id(class_id)\n"
      ]
    },
    {
      "cell_type": "code",
      "metadata": {
        "colab_type": "code",
        "id": "NCEP-DG0VxlV",
        "colab": {
          "base_uri": "https://localhost:8080/",
          "height": 119
        },
        "outputId": "83902cbb-bdeb-4b18-9601-06e85afd8431"
      },
      "source": [
        "%tensorflow_version 1.x # 確保 colob 中使用的 tensorflow 是 1.x 版本而不是 tensorflow 2\n",
        "import tensorflow as tf\n",
        "print(tf.__version__)"
      ],
      "execution_count": 1,
      "outputs": [
        {
          "output_type": "stream",
          "text": [
            "`%tensorflow_version` only switches the major version: `1.x` or `2.x`.\n",
            "You set: `1.x # 確保 colob 中使用的 tensorflow 是 1.x 版本而不是 tensorflow 2`. This will be interpreted as: `1.x`.\n",
            "\n",
            "\n",
            "TensorFlow 1.x selected.\n",
            "1.15.0\n"
          ],
          "name": "stdout"
        }
      ]
    },
    {
      "cell_type": "code",
      "metadata": {
        "colab_type": "code",
        "id": "eXT7SQe0KQxv",
        "colab": {
          "base_uri": "https://localhost:8080/",
          "height": 292
        },
        "outputId": "39cebaed-4e83-4ecd-a625-790d15865195"
      },
      "source": [
        "pip install keras==2.2.4 # 需要安裝 keras 2.2.4 的版本"
      ],
      "execution_count": 2,
      "outputs": [
        {
          "output_type": "stream",
          "text": [
            "Collecting keras==2.2.4\n",
            "\u001b[?25l  Downloading https://files.pythonhosted.org/packages/5e/10/aa32dad071ce52b5502266b5c659451cfd6ffcbf14e6c8c4f16c0ff5aaab/Keras-2.2.4-py2.py3-none-any.whl (312kB)\n",
            "\r\u001b[K     |█                               | 10kB 21.4MB/s eta 0:00:01\r\u001b[K     |██                              | 20kB 2.2MB/s eta 0:00:01\r\u001b[K     |███▏                            | 30kB 3.2MB/s eta 0:00:01\r\u001b[K     |████▏                           | 40kB 2.1MB/s eta 0:00:01\r\u001b[K     |█████▎                          | 51kB 2.6MB/s eta 0:00:01\r\u001b[K     |██████▎                         | 61kB 3.1MB/s eta 0:00:01\r\u001b[K     |███████▍                        | 71kB 3.6MB/s eta 0:00:01\r\u001b[K     |████████▍                       | 81kB 4.1MB/s eta 0:00:01\r\u001b[K     |█████████▍                      | 92kB 4.5MB/s eta 0:00:01\r\u001b[K     |██████████▌                     | 102kB 3.5MB/s eta 0:00:01\r\u001b[K     |███████████▌                    | 112kB 3.5MB/s eta 0:00:01\r\u001b[K     |████████████▋                   | 122kB 3.5MB/s eta 0:00:01\r\u001b[K     |█████████████▋                  | 133kB 3.5MB/s eta 0:00:01\r\u001b[K     |██████████████▊                 | 143kB 3.5MB/s eta 0:00:01\r\u001b[K     |███████████████▊                | 153kB 3.5MB/s eta 0:00:01\r\u001b[K     |████████████████▊               | 163kB 3.5MB/s eta 0:00:01\r\u001b[K     |█████████████████▉              | 174kB 3.5MB/s eta 0:00:01\r\u001b[K     |██████████████████▉             | 184kB 3.5MB/s eta 0:00:01\r\u001b[K     |████████████████████            | 194kB 3.5MB/s eta 0:00:01\r\u001b[K     |█████████████████████           | 204kB 3.5MB/s eta 0:00:01\r\u001b[K     |██████████████████████          | 215kB 3.5MB/s eta 0:00:01\r\u001b[K     |███████████████████████         | 225kB 3.5MB/s eta 0:00:01\r\u001b[K     |████████████████████████▏       | 235kB 3.5MB/s eta 0:00:01\r\u001b[K     |█████████████████████████▏      | 245kB 3.5MB/s eta 0:00:01\r\u001b[K     |██████████████████████████▏     | 256kB 3.5MB/s eta 0:00:01\r\u001b[K     |███████████████████████████▎    | 266kB 3.5MB/s eta 0:00:01\r\u001b[K     |████████████████████████████▎   | 276kB 3.5MB/s eta 0:00:01\r\u001b[K     |█████████████████████████████▍  | 286kB 3.5MB/s eta 0:00:01\r\u001b[K     |██████████████████████████████▍ | 296kB 3.5MB/s eta 0:00:01\r\u001b[K     |███████████████████████████████▌| 307kB 3.5MB/s eta 0:00:01\r\u001b[K     |████████████████████████████████| 317kB 3.5MB/s \n",
            "\u001b[?25hRequirement already satisfied: pyyaml in /usr/local/lib/python3.6/dist-packages (from keras==2.2.4) (3.13)\n",
            "Requirement already satisfied: keras-applications>=1.0.6 in /usr/local/lib/python3.6/dist-packages (from keras==2.2.4) (1.0.8)\n",
            "Requirement already satisfied: scipy>=0.14 in /usr/local/lib/python3.6/dist-packages (from keras==2.2.4) (1.4.1)\n",
            "Requirement already satisfied: six>=1.9.0 in /usr/local/lib/python3.6/dist-packages (from keras==2.2.4) (1.12.0)\n",
            "Requirement already satisfied: keras-preprocessing>=1.0.5 in /usr/local/lib/python3.6/dist-packages (from keras==2.2.4) (1.1.0)\n",
            "Requirement already satisfied: h5py in /usr/local/lib/python3.6/dist-packages (from keras==2.2.4) (2.8.0)\n",
            "Requirement already satisfied: numpy>=1.9.1 in /usr/local/lib/python3.6/dist-packages (from keras==2.2.4) (1.17.5)\n",
            "Installing collected packages: keras\n",
            "  Found existing installation: Keras 2.2.5\n",
            "    Uninstalling Keras-2.2.5:\n",
            "      Successfully uninstalled Keras-2.2.5\n",
            "Successfully installed keras-2.2.4\n"
          ],
          "name": "stdout"
        }
      ]
    },
    {
      "cell_type": "code",
      "metadata": {
        "colab_type": "code",
        "id": "vELO-PTVxAtm",
        "colab": {
          "base_uri": "https://localhost:8080/",
          "height": 156
        },
        "outputId": "daa98703-5bd8-4472-8ba5-d2c484e397f8"
      },
      "source": [
        "from google.colab import drive \n",
        "drive.mount('/content/gdrive') # 將 google drive 掛載在 colob，\n",
        "# 下載基於 keras 的 yolov3 程式碼\n",
        "%cd 'gdrive/My Drive'\n",
        "# !git clone https://github.com/qqwweee/keras-yolo3 # 如果之前已經下載過就可以註解掉\n",
        "%cd keras-yolo3"
      ],
      "execution_count": 3,
      "outputs": [
        {
          "output_type": "stream",
          "text": [
            "Go to this URL in a browser: https://accounts.google.com/o/oauth2/auth?client_id=947318989803-6bn6qk8qdgf4n4g3pfee6491hc0brc4i.apps.googleusercontent.com&redirect_uri=urn%3aietf%3awg%3aoauth%3a2.0%3aoob&response_type=code&scope=email%20https%3a%2f%2fwww.googleapis.com%2fauth%2fdocs.test%20https%3a%2f%2fwww.googleapis.com%2fauth%2fdrive%20https%3a%2f%2fwww.googleapis.com%2fauth%2fdrive.photos.readonly%20https%3a%2f%2fwww.googleapis.com%2fauth%2fpeopleapi.readonly\n",
            "\n",
            "Enter your authorization code:\n",
            "··········\n",
            "Mounted at /content/gdrive\n",
            "/content/gdrive/My Drive\n",
            "/content/gdrive/My Drive/keras-yolo3\n"
          ],
          "name": "stdout"
        }
      ]
    },
    {
      "cell_type": "code",
      "metadata": {
        "colab_type": "code",
        "id": "k0MyCUeRuARA",
        "colab": {}
      },
      "source": [
        "from PIL import Image\n",
        "image = Image.open('dog.jpg') "
      ],
      "execution_count": 0,
      "outputs": []
    },
    {
      "cell_type": "code",
      "metadata": {
        "colab_type": "code",
        "id": "ooyy53TW5c0L",
        "colab": {}
      },
      "source": [
        "from yolo import YOLO\n",
        "yolo_model = YOLO(model_path='logs/000/trained_weights_final.h5', classes_path=\"model_data/voc_classes.txt\")\n",
        "r_image = yolo_model.detect_image(image)"
      ],
      "execution_count": 0,
      "outputs": []
    },
    {
      "cell_type": "code",
      "metadata": {
        "id": "mup292yIhO9f",
        "colab_type": "code",
        "colab": {}
      },
      "source": [
        "r_image"
      ],
      "execution_count": 0,
      "outputs": []
    },
    {
      "cell_type": "code",
      "metadata": {
        "id": "pK6DJUi_h2zW",
        "colab_type": "code",
        "colab": {}
      },
      "source": [
        ""
      ],
      "execution_count": 0,
      "outputs": []
    }
  ]
}