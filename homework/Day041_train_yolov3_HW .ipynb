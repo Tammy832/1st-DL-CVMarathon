{
  "nbformat": 4,
  "nbformat_minor": 0,
  "metadata": {
    "accelerator": "GPU",
    "colab": {
      "name": "Day41_train_yolov3_HW.ipynb",
      "provenance": [],
      "collapsed_sections": []
    },
    "kernelspec": {
      "display_name": "Python 3",
      "language": "python",
      "name": "python3"
    },
    "language_info": {
      "codemirror_mode": {
        "name": "ipython",
        "version": 3
      },
      "file_extension": ".py",
      "mimetype": "text/x-python",
      "name": "python",
      "nbconvert_exporter": "python",
      "pygments_lexer": "ipython3",
      "version": "3.6.1"
    }
  },
  "cells": [
    {
      "cell_type": "markdown",
      "metadata": {
        "colab_type": "text",
        "id": "CG77DrrB2CrU"
      },
      "source": [
        "## 作業\n",
        "\n",
        "1. 如何使用已經訓練好的模型？\n",
        "\n",
        "Ans. 先下載yolov3的網路權重轉化為keras可讀取的格式(模型)，即`convert.py -w`去做轉換，接著藉此模型繼續訓練自己的資料集。\n",
        "2. 依照 https://github.com/qqwweee/keras-yolo3 的程式碼，請敘述，訓練模型時，資料集的格式是什麼？具體一點的說，要提供什麼格式的文件來描述資料集的圖片以及 bboxes 的信息呢？\n",
        "\n",
        "Ans. 要將VOC labels轉換為YOLO格式。採用text文字檔，第一欄為類別的ID，其他則是用物件框相對於整張圖片的比例來呈現\n",
        "  1. 第一欄：類別代碼 \n",
        "  2. 第二欄：物件中心x位在整張圖片x的比例\n",
        "  3. 第三欄：物件中心y位在整張圖片y的比例\n",
        "  4. 第四欄：物件寬度w佔整張圖片寬度的比例\n",
        "  5. 第五欄：物件長度h佔整張圖片長度的比例\n",
        "\n",
        "參考資料：[建立自己的YOLO辨識模型 – 以柑橘辨識為例](https://chtseng.wordpress.com/2018/09/01/%E5%BB%BA%E7%AB%8B%E8%87%AA%E5%B7%B1%E7%9A%84yolo%E8%BE%A8%E8%AD%98%E6%A8%A1%E5%9E%8B-%E4%BB%A5%E6%9F%91%E6%A9%98%E8%BE%A8%E8%AD%98%E7%82%BA%E4%BE%8B/)\n"
      ]
    },
    {
      "cell_type": "code",
      "metadata": {
        "colab_type": "code",
        "id": "NCEP-DG0VxlV",
        "colab": {}
      },
      "source": [
        "%tensorflow_version 1.x # 確保 colob 中使用的 tensorflow 是 1.x 版本而不是 tensorflow 2\n",
        "import tensorflow as tf\n",
        "print(tf.__version__)"
      ],
      "execution_count": 0,
      "outputs": []
    },
    {
      "cell_type": "code",
      "metadata": {
        "colab_type": "code",
        "id": "eXT7SQe0KQxv",
        "colab": {}
      },
      "source": [
        "pip install keras==2.2.4 # 需要安裝 keras 2.2.4 的版本"
      ],
      "execution_count": 0,
      "outputs": []
    },
    {
      "cell_type": "code",
      "metadata": {
        "colab_type": "code",
        "id": "vELO-PTVxAtm",
        "colab": {}
      },
      "source": [
        "from google.colab import drive \n",
        "drive.mount('/content/gdrive') # 將 google drive 掛載在 colob，\n",
        "# 下載基於 keras 的 yolov3 程式碼\n",
        "%cd 'gdrive/My Drive'\n",
        "# !git clone https://github.com/qqwweee/keras-yolo3 # 如果之前已經下載過就可以註解掉\n",
        "%cd keras-yolo3"
      ],
      "execution_count": 0,
      "outputs": []
    },
    {
      "cell_type": "code",
      "metadata": {
        "colab_type": "code",
        "id": "k0MyCUeRuARA",
        "colab": {}
      },
      "source": [
        "from PIL import Image\n",
        "image = Image.open('dog.jpg') "
      ],
      "execution_count": 0,
      "outputs": []
    },
    {
      "cell_type": "code",
      "metadata": {
        "colab_type": "code",
        "id": "ooyy53TW5c0L",
        "colab": {}
      },
      "source": [
        ""
      ],
      "execution_count": 0,
      "outputs": []
    }
  ]
}