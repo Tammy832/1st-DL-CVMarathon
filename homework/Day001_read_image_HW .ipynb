{
 "cells": [
  {
   "cell_type": "markdown",
   "metadata": {},
   "source": [
    "# 作業\n",
    "\n",
    "思考一下我們前面有提到圖片是矩陣，但維度可能會不一樣\n",
    "例如灰階圖只有兩個維度，RGB 彩圖則有 3 個維度\n",
    "\n",
    "假如今天我們把 RGB 3 個維度拆開來看會有甚麼不同的效果呢？\n",
    "\n",
    "source of image: https://s.yimg.com/ny/api/res/1.2/.y_wl.ZS15jW_e.EqSafag--~A/YXBwaWQ9aGlnaGxhbmRlcjtzbT0xO3c9ODAw/https://media-mbst-pub-ue1.s3.amazonaws.com/creatr-images/2019-09/7e7d7770-d817-11e9-bf77-482958cfe97b\n",
    "\n",
    "reference:\n",
    "1. [Python-OpenCV單通道加噪](https://www.twblogs.net/a/5b87615d2b71775d1cd6d55d)\n",
    "2. [RGB or BGR?](https://github.com/deepmind/kinetics-i3d/issues/25)\n",
    "3. [Splitting Image using OpenCV in python](https://stackoverflow.com/questions/19181485/splitting-image-using-opencv-in-python)"
   ]
  },
  {
   "cell_type": "code",
   "execution_count": null,
   "metadata": {},
   "outputs": [],
   "source": [
    "import cv2\n",
    "\n",
    "img_path = 'data/nneka.jpg'\n",
    "\n",
    "img = cv2.imread(img_path)\n",
    "\n",
    "(b, g, r) = cv2.split(img)\n",
    "\n",
    "while True:\n",
    "    cv2.imshow('b', b)\n",
    "    cv2.imshow('g', g)\n",
    "    cv2.imshow('r', r)\n",
    "    \n",
    "    k = cv2.waitKey(0)\n",
    "    cv2.destroyAllWindows()\n",
    "    break"
   ]
  },
  {
   "cell_type": "code",
   "execution_count": null,
   "metadata": {},
   "outputs": [],
   "source": []
  }
 ],
 "metadata": {
  "kernelspec": {
   "display_name": "Python 3",
   "language": "python",
   "name": "python3"
  },
  "language_info": {
   "codemirror_mode": {
    "name": "ipython",
    "version": 3
   },
   "file_extension": ".py",
   "mimetype": "text/x-python",
   "name": "python",
   "nbconvert_exporter": "python",
   "pygments_lexer": "ipython3",
   "version": "3.6.8"
  }
 },
 "nbformat": 4,
 "nbformat_minor": 2
}
